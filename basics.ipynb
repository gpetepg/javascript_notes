{
 "cells": [
  {
   "cell_type": "markdown",
   "metadata": {},
   "source": [
    "https://github.com/n-riesco/ijavascript\n",
    "\n",
    "https://developer.mozilla.org/en-US/docs/Learn/Getting_started_with_the_web/JavaScript_basics\n",
    "\n",
    "https://javascript.info/\n",
    "\n",
    "[Do I need semicolons?](http://inimino.org/~inimino/blog/javascript_semicolons)"
   ]
  },
  {
   "cell_type": "markdown",
   "metadata": {},
   "source": [
    "# Assignment"
   ]
  },
  {
   "cell_type": "markdown",
   "metadata": {},
   "source": [
    "<b> Const </b>\n",
    "\n",
    "Constant variable that cannot be reassigned."
   ]
  },
  {
   "cell_type": "code",
   "execution_count": 19,
   "metadata": {},
   "outputs": [],
   "source": [
    "const x = 5"
   ]
  },
  {
   "cell_type": "code",
   "execution_count": 20,
   "metadata": {
    "scrolled": true
   },
   "outputs": [
    {
     "ename": "SyntaxError",
     "evalue": "Identifier 'x' has already been declared",
     "output_type": "error",
     "traceback": [
      "evalmachine.<anonymous>:1",
      "const x = 6",
      "^",
      "",
      "SyntaxError: Identifier 'x' has already been declared",
      "    at evalmachine.<anonymous>:1:1",
      "    at Script.runInThisContext (vm.js:96:20)",
      "    at Object.runInThisContext (vm.js:303:38)",
      "    at run ([eval]:1002:15)",
      "    at onRunRequest ([eval]:829:18)",
      "    at onMessage ([eval]:789:13)",
      "    at process.emit (events.js:182:13)",
      "    at emit (internal/child_process.js:812:12)",
      "    at process._tickCallback (internal/process/next_tick.js:63:19)"
     ]
    }
   ],
   "source": [
    "const x = 6"
   ]
  },
  {
   "cell_type": "markdown",
   "metadata": {},
   "source": [
    "<b> Let vs Var </b>"
   ]
  },
  {
   "cell_type": "markdown",
   "metadata": {},
   "source": [
    "`var` and `let` are both used for variable and function declaration in javascript but the differ in that `let` is block scoped. It can be said that a variable declared with var is defined throughout the program (global) as compared to let.\n",
    "\n",
    "```\n",
    "let variable cannot be called here\n",
    "    {\n",
    "        This is a block\n",
    "    }\n",
    "let variable cannot be called here\n",
    "```"
   ]
  },
  {
   "cell_type": "code",
   "execution_count": 21,
   "metadata": {},
   "outputs": [
    {
     "name": "stdout",
     "output_type": "stream",
     "text": [
      "5\n"
     ]
    }
   ],
   "source": [
    "{\n",
    "    let y = 5\n",
    "    console.log(x)\n",
    "}"
   ]
  },
  {
   "cell_type": "code",
   "execution_count": 22,
   "metadata": {},
   "outputs": [
    {
     "ename": "ReferenceError",
     "evalue": "y is not defined",
     "output_type": "error",
     "traceback": [
      "evalmachine.<anonymous>:7",
      "console.log(y)",
      "            ^",
      "",
      "ReferenceError: y is not defined",
      "    at evalmachine.<anonymous>:7:13",
      "    at Script.runInThisContext (vm.js:96:20)",
      "    at Object.runInThisContext (vm.js:303:38)",
      "    at run ([eval]:1002:15)",
      "    at onRunRequest ([eval]:829:18)",
      "    at onMessage ([eval]:789:13)",
      "    at process.emit (events.js:182:13)",
      "    at emit (internal/child_process.js:812:12)",
      "    at process._tickCallback (internal/process/next_tick.js:63:19)"
     ]
    }
   ],
   "source": [
    "// Doesn't work\n",
    "\n",
    "{ \n",
    "    let y = 5\n",
    "}\n",
    "\n",
    "console.log(y)"
   ]
  },
  {
   "cell_type": "markdown",
   "metadata": {},
   "source": [
    "<b>new</b>\n",
    "\n",
    "The new operator lets developers create an instance of a user-defined object type or of one of the built-in object types that has a constructor function.The new keyword does the following things:"
   ]
  },
  {
   "cell_type": "code",
   "execution_count": 14,
   "metadata": {},
   "outputs": [
    {
     "name": "stdout",
     "output_type": "stream",
     "text": [
      "Eagle\n"
     ]
    }
   ],
   "source": [
    "function Car(make, model, year) {\n",
    "  this.make = make;\n",
    "  this.model = model;\n",
    "  this.year = year;\n",
    "}\n",
    "\n",
    "var car1 = new Car('Eagle', 'Talon TSi', 1993);\n",
    "\n",
    "console.log(car1.make);\n",
    "// expected output: \"Eagle\"\n"
   ]
  },
  {
   "cell_type": "markdown",
   "metadata": {},
   "source": [
    "# Typing"
   ]
  },
  {
   "cell_type": "code",
   "execution_count": null,
   "metadata": {},
   "outputs": [],
   "source": [
    "// int\n",
    "var int = 5;"
   ]
  },
  {
   "cell_type": "code",
   "execution_count": null,
   "metadata": {},
   "outputs": [],
   "source": [
    "// string\n",
    "var string = '5';"
   ]
  },
  {
   "cell_type": "code",
   "execution_count": null,
   "metadata": {},
   "outputs": [],
   "source": [
    "// bool\n",
    "var True = true;\n",
    "var False = false;"
   ]
  },
  {
   "cell_type": "code",
   "execution_count": null,
   "metadata": {},
   "outputs": [],
   "source": [
    "// array (python list)\n",
    "var array = [1,2,3,4,5]\n",
    "\n",
    "array[1]"
   ]
  },
  {
   "cell_type": "code",
   "execution_count": 25,
   "metadata": {},
   "outputs": [],
   "source": [
    "// hashmaps / (python dictionaries)\n",
    "// You don't have to make the key a str.\n",
    "\n",
    "var hash = {a:[1,2,3], b:[4,5,6]};"
   ]
  },
  {
   "cell_type": "code",
   "execution_count": 26,
   "metadata": {},
   "outputs": [
    {
     "data": {
      "text/plain": [
       "[ 4, 5, 6 ]"
      ]
     },
     "execution_count": 26,
     "metadata": {},
     "output_type": "execute_result"
    }
   ],
   "source": [
    "hash['b']"
   ]
  },
  {
   "cell_type": "code",
   "execution_count": 27,
   "metadata": {},
   "outputs": [
    {
     "data": {
      "text/plain": [
       "1"
      ]
     },
     "execution_count": 27,
     "metadata": {},
     "output_type": "execute_result"
    }
   ],
   "source": [
    "// Calling from hash and list\n",
    "\n",
    "hash['a'][0]"
   ]
  },
  {
   "cell_type": "code",
   "execution_count": null,
   "metadata": {},
   "outputs": [],
   "source": [
    "/*\n",
    "Everything in between is a multiline comment.\n",
    "*/"
   ]
  },
  {
   "cell_type": "markdown",
   "metadata": {},
   "source": [
    "<b>Casting types</b>"
   ]
  },
  {
   "cell_type": "code",
   "execution_count": null,
   "metadata": {},
   "outputs": [],
   "source": [
    "// To string\n",
    "var number = 1;\n",
    "\n",
    "String(number)"
   ]
  },
  {
   "cell_type": "code",
   "execution_count": null,
   "metadata": {
    "scrolled": false
   },
   "outputs": [],
   "source": [
    "// To number\n",
    "Number('5')"
   ]
  },
  {
   "cell_type": "code",
   "execution_count": null,
   "metadata": {
    "scrolled": true
   },
   "outputs": [],
   "source": [
    "// To float\n",
    "parseFloat('1.09')"
   ]
  },
  {
   "cell_type": "code",
   "execution_count": null,
   "metadata": {},
   "outputs": [],
   "source": [
    "// Checking type\n",
    "console.log(typeof(number))"
   ]
  },
  {
   "cell_type": "markdown",
   "metadata": {},
   "source": [
    "# Operators"
   ]
  },
  {
   "cell_type": "markdown",
   "metadata": {},
   "source": [
    "<b>Equal signs</b>\n",
    "- `=` is assignment\n",
    "- `==` Checks if it is equal\n",
    "- `===` Checks if it is equal and the same type\n",
    "- `!=` Checks if it is false\n",
    "- `!==` Checks if it is false and the same type\n",
    "\n",
    "<b>Adding additional conditions to statements</b>\n",
    "- `&&` and\n",
    "- `||` or\n",
    "- `!` not"
   ]
  },
  {
   "cell_type": "code",
   "execution_count": null,
   "metadata": {},
   "outputs": [],
   "source": [
    "var int_zero = 0;\n",
    "var string_zero = '0';\n",
    "\n",
    "int_zero == string_zero"
   ]
  },
  {
   "cell_type": "code",
   "execution_count": null,
   "metadata": {},
   "outputs": [],
   "source": [
    "int_zero === string_zero"
   ]
  },
  {
   "cell_type": "code",
   "execution_count": null,
   "metadata": {},
   "outputs": [],
   "source": [
    "int_zero != string_zero"
   ]
  },
  {
   "cell_type": "code",
   "execution_count": null,
   "metadata": {},
   "outputs": [],
   "source": [
    "int_zero !== string_zero"
   ]
  },
  {
   "cell_type": "code",
   "execution_count": null,
   "metadata": {},
   "outputs": [],
   "source": [
    "// Alternative way to return bool\n",
    "var myVariable = 3;\n",
    "\n",
    "!myVariable === 3;"
   ]
  },
  {
   "cell_type": "code",
   "execution_count": null,
   "metadata": {},
   "outputs": [],
   "source": [
    "myVariable === 3;"
   ]
  },
  {
   "cell_type": "markdown",
   "metadata": {},
   "source": [
    "<b>Addition</b>"
   ]
  },
  {
   "cell_type": "code",
   "execution_count": null,
   "metadata": {},
   "outputs": [],
   "source": [
    "// Addition\n",
    "var six = 6;\n",
    "var nine = 9;\n",
    "six + nine == 6 + 9"
   ]
  },
  {
   "cell_type": "code",
   "execution_count": null,
   "metadata": {},
   "outputs": [],
   "source": [
    "// subtraction\n",
    "\n",
    "six - nine"
   ]
  },
  {
   "cell_type": "markdown",
   "metadata": {},
   "source": [
    "<b>Multiplication</b>"
   ]
  },
  {
   "cell_type": "code",
   "execution_count": null,
   "metadata": {},
   "outputs": [],
   "source": [
    "// multiplication\n",
    "6*9"
   ]
  },
  {
   "cell_type": "code",
   "execution_count": null,
   "metadata": {},
   "outputs": [],
   "source": [
    "// Exponent\n",
    "\n",
    "5**2"
   ]
  },
  {
   "cell_type": "markdown",
   "metadata": {},
   "source": [
    "<b>Division</b>"
   ]
  },
  {
   "cell_type": "code",
   "execution_count": null,
   "metadata": {},
   "outputs": [],
   "source": [
    "// Division\n",
    "\n",
    "5/3"
   ]
  },
  {
   "cell_type": "code",
   "execution_count": null,
   "metadata": {},
   "outputs": [],
   "source": [
    "// Floor division\n",
    "\n",
    "Math.floor(5/3)"
   ]
  },
  {
   "cell_type": "code",
   "execution_count": null,
   "metadata": {},
   "outputs": [],
   "source": [
    "// Modulus\n",
    "\n",
    "5%2"
   ]
  },
  {
   "cell_type": "markdown",
   "metadata": {},
   "source": [
    "# Conditionals"
   ]
  },
  {
   "cell_type": "code",
   "execution_count": null,
   "metadata": {},
   "outputs": [],
   "source": [
    "var flavor = 'vanilla';\n",
    "\n",
    "if (flavor === 'chocolate') {\n",
    "    console.log('I LOVE chocolate')\n",
    "} else if (flavor === 'vanilla') {\n",
    "    console.log('Vaniller')\n",
    "} else {\n",
    "    console.log('AWWWW not chocolate')\n",
    "}"
   ]
  },
  {
   "cell_type": "code",
   "execution_count": null,
   "metadata": {},
   "outputs": [],
   "source": [
    "// Nesting conditionals\n",
    "\n",
    "var a = 5;\n",
    "var b = 3;\n",
    "var c = 5;\n",
    "\n",
    "if (a == b) {\n",
    "  if (a == c) {\n",
    "    answer = \"all are equal\";\n",
    "  } else {\n",
    "    answer = \"a and b are equal\";\n",
    "  }\n",
    "} else {\n",
    "  if (a == c) {\n",
    "    answer = \"a and c are equal\";\n",
    "  } else {\n",
    "    if (b == c) {\n",
    "      answer = \"b and c are equal\";\n",
    "    } else {\n",
    "      answer = \"all are different\";\n",
    "    }\n",
    "  }\n",
    "}"
   ]
  },
  {
   "cell_type": "code",
   "execution_count": null,
   "metadata": {},
   "outputs": [],
   "source": [
    "// Cleaner\n",
    "\n",
    "var a = 5;\n",
    "var b = 3;\n",
    "var c = 5;\n",
    "\n",
    "if (a == b) {\n",
    "  if (a == c) {\n",
    "    answer = \"all are equal\";\n",
    "  } else {\n",
    "    answer = \"a and b are equal\";\n",
    "  }\n",
    "} else if (a == c) {\n",
    "  answer = \"a and c are equal\";\n",
    "} else if (b == c) {\n",
    "  answer = \"b and c are equal\";\n",
    "} else {\n",
    "  answer = \"all are different\";\n",
    "}"
   ]
  },
  {
   "cell_type": "markdown",
   "metadata": {},
   "source": [
    "<b>Switch</b>\n",
    "\n",
    "A switch statement can replace multiple if checks.\n",
    "It gives a more descriptive way to compare a value with multiple variants\n",
    "and uses the variant to perform different actions based on different conditions."
   ]
  },
  {
   "cell_type": "code",
   "execution_count": 11,
   "metadata": {},
   "outputs": [
    {
     "data": {
      "text/plain": [
       "'Wednesday'"
      ]
     },
     "execution_count": 11,
     "metadata": {},
     "output_type": "execute_result"
    }
   ],
   "source": [
    "switch (new Date().getDay()) {\n",
    "  case 0:\n",
    "    day = \"Sunday\";\n",
    "    break;\n",
    "  case 1:\n",
    "    day = \"Monday\";\n",
    "    break;\n",
    "  case 2:\n",
    "     day = \"Tuesday\";\n",
    "    break;\n",
    "  case 3:\n",
    "    day = \"Wednesday\";\n",
    "    break;\n",
    "  case 4:\n",
    "    day = \"Thursday\";\n",
    "    break;\n",
    "  case 5:\n",
    "    day = \"Friday\";\n",
    "    break;\n",
    "  case 6:\n",
    "    day = \"Saturday\";\n",
    "}"
   ]
  },
  {
   "cell_type": "markdown",
   "metadata": {},
   "source": [
    "# Functions"
   ]
  },
  {
   "cell_type": "code",
   "execution_count": null,
   "metadata": {},
   "outputs": [],
   "source": [
    "// Return\n",
    "\n",
    "function addition(num1, num2) {\n",
    "    var summed = num1 + num2;\n",
    "    return summed;\n",
    "}"
   ]
  },
  {
   "cell_type": "code",
   "execution_count": null,
   "metadata": {},
   "outputs": [],
   "source": [
    "addition(5,5)"
   ]
  },
  {
   "cell_type": "code",
   "execution_count": null,
   "metadata": {},
   "outputs": [],
   "source": [
    "// Like Python print\n",
    "\n",
    "function addition(num1, num2) {\n",
    "    var summed = num1 + num2;\n",
    "    console.log(summed);\n",
    "}"
   ]
  },
  {
   "cell_type": "code",
   "execution_count": null,
   "metadata": {},
   "outputs": [],
   "source": [
    "addition(5,5)"
   ]
  },
  {
   "cell_type": "code",
   "execution_count": null,
   "metadata": {},
   "outputs": [],
   "source": [
    "// Making function an object\n",
    "a = addition"
   ]
  },
  {
   "cell_type": "code",
   "execution_count": null,
   "metadata": {
    "scrolled": true
   },
   "outputs": [],
   "source": [
    "a(5,6)"
   ]
  },
  {
   "cell_type": "markdown",
   "metadata": {},
   "source": [
    "<b>Arrow Functions</b>\n",
    "    \n",
    "You can create functions with an arrow `=>` instead of the `function`."
   ]
  },
  {
   "cell_type": "code",
   "execution_count": 24,
   "metadata": {},
   "outputs": [],
   "source": [
    "const power = (base, exponent) => {\n",
    "  let result = 1;\n",
    "  for (let count = 0; count < exponent; count++) {\n",
    "    result *= base;\n",
    "  }\n",
    "  return result;\n",
    "};"
   ]
  },
  {
   "cell_type": "code",
   "execution_count": 26,
   "metadata": {},
   "outputs": [
    {
     "data": {
      "text/plain": [
       "8"
      ]
     },
     "execution_count": 26,
     "metadata": {},
     "output_type": "execute_result"
    }
   ],
   "source": [
    "power(2, 3)"
   ]
  },
  {
   "cell_type": "code",
   "execution_count": null,
   "metadata": {},
   "outputs": [],
   "source": [
    "let person = (name, job) => {\n",
    "    console.log(name, job)\n",
    "}"
   ]
  },
  {
   "cell_type": "code",
   "execution_count": 18,
   "metadata": {},
   "outputs": [
    {
     "name": "stdout",
     "output_type": "stream",
     "text": [
      "tyler swe\n"
     ]
    }
   ],
   "source": [
    "person('Guy', 'Fieri')"
   ]
  },
  {
   "cell_type": "markdown",
   "metadata": {},
   "source": [
    "# Classes"
   ]
  },
  {
   "cell_type": "code",
   "execution_count": null,
   "metadata": {},
   "outputs": [],
   "source": [
    "class Person {\n",
    "    constructor(name, job) {\n",
    "        this.name = name;\n",
    "        this.job = job;\n",
    "    };\n",
    "    \n",
    "    log_info(x) {\n",
    "        console.log(this.name, x)\n",
    "    };\n",
    "    \n",
    "    take_number(x) {\n",
    "        if (x < 3) {\n",
    "            console.log('less than 3')\n",
    "        } else if (x > 1) {\n",
    "            console.log('greater than 1')\n",
    "        } else {\n",
    "            console.log('hello')\n",
    "        };\n",
    "    };\n",
    "    \n",
    "}"
   ]
  },
  {
   "cell_type": "code",
   "execution_count": null,
   "metadata": {},
   "outputs": [],
   "source": [
    "ty = new Person('tyler', 'swe')"
   ]
  },
  {
   "cell_type": "code",
   "execution_count": null,
   "metadata": {},
   "outputs": [],
   "source": [
    "ty.name"
   ]
  },
  {
   "cell_type": "code",
   "execution_count": null,
   "metadata": {},
   "outputs": [],
   "source": [
    "ty.log_info('x')"
   ]
  },
  {
   "cell_type": "code",
   "execution_count": null,
   "metadata": {},
   "outputs": [],
   "source": [
    "ty.take_number('a')"
   ]
  },
  {
   "cell_type": "markdown",
   "metadata": {},
   "source": [
    "<b>Subclassing<b>"
   ]
  },
  {
   "cell_type": "code",
   "execution_count": null,
   "metadata": {},
   "outputs": [],
   "source": [
    "class sub_class {\n",
    "    constructor(Person) {\n",
    "        \n",
    "    }\n",
    "}"
   ]
  },
  {
   "cell_type": "markdown",
   "metadata": {},
   "source": [
    "# Loops"
   ]
  },
  {
   "cell_type": "markdown",
   "metadata": {},
   "source": [
    "<b>For loops</b>"
   ]
  },
  {
   "cell_type": "markdown",
   "metadata": {},
   "source": [
    "<i>Python `range()` equivalent</i>"
   ]
  },
  {
   "cell_type": "code",
   "execution_count": 10,
   "metadata": {},
   "outputs": [
    {
     "data": {
      "text/plain": [
       "[ 0, 1, 2, 3, 4 ]"
      ]
     },
     "execution_count": 10,
     "metadata": {},
     "output_type": "execute_result"
    }
   ],
   "source": [
    "Array.from({length: 5}, (x,i) => i);"
   ]
  },
  {
   "cell_type": "code",
   "execution_count": null,
   "metadata": {},
   "outputs": [],
   "source": [
    "var step;\n",
    "for (step = 0; step < 5; step++) {\n",
    "  // Runs 5 times, with values of step 0 through 4.\n",
    "  console.log('Walking east one step');\n",
    "}"
   ]
  },
  {
   "cell_type": "code",
   "execution_count": null,
   "metadata": {},
   "outputs": [],
   "source": [
    "var cars = ['Bmw', 'Mazda', 'Audi'];\n",
    "\n",
    "for (i = 0; i < cars.length; i++) {\n",
    "    console.log(cars[i]);\n",
    "}"
   ]
  },
  {
   "cell_type": "markdown",
   "metadata": {},
   "source": [
    "<b>For In loops</b>\n",
    "\n",
    "https://developer.mozilla.org/en-US/docs/Web/JavaScript/Guide/Loops_and_iteration#for...in_statement\n",
    "\n",
    "`for in` is used to iterate through iterables, `for in` will iterate through property names."
   ]
  },
  {
   "cell_type": "code",
   "execution_count": 29,
   "metadata": {},
   "outputs": [
    {
     "name": "stdout",
     "output_type": "stream",
     "text": [
      "fname\n",
      "lname\n"
     ]
    }
   ],
   "source": [
    "var ppl = {fname: 't', lname:'g'}\n",
    "\n",
    "for (var key in ppl) {\n",
    "    console.log(key)\n",
    "}"
   ]
  },
  {
   "cell_type": "markdown",
   "metadata": {},
   "source": [
    "<b>For of loops</b>\n",
    "\n",
    "https://developer.mozilla.org/en-US/docs/Web/JavaScript/Guide/Loops_and_iteration#for...of_statement\n",
    "\n",
    "Like `for in`, `for of` is used to iterate throught iterables, `for of` will iterate through property values."
   ]
  },
  {
   "cell_type": "code",
   "execution_count": 19,
   "metadata": {},
   "outputs": [
    {
     "name": "stdout",
     "output_type": "stream",
     "text": [
      "3\n",
      "5\n",
      "7\n",
      "3\n",
      "5\n",
      "7\n"
     ]
    }
   ],
   "source": [
    "var nums = [3, 5, 7];\n",
    "\n",
    "for (num = 0; num < nums.length; num++) {\n",
    "    console.log(nums[num]);\n",
    "}\n",
    "\n",
    "// These are equivalent\n",
    "\n",
    "var nums = [3, 5, 7];\n",
    "\n",
    "for (var num of nums) {\n",
    "    console.log(num); // logs 3, 5, 7\n",
    "}"
   ]
  },
  {
   "cell_type": "markdown",
   "metadata": {},
   "source": [
    "<b>While loops</b>\n",
    "\n",
    "In a `while loop`, a condition is tested at the beginning of the loop and if the condition is `true` only then will statements inside the loop be executed."
   ]
  },
  {
   "cell_type": "code",
   "execution_count": null,
   "metadata": {},
   "outputs": [],
   "source": [
    "var n = 0;\n",
    "\n",
    "while (n <= 5) {\n",
    "    n++;\n",
    "\n",
    "    if (n == 3)\n",
    "    console.log('conditon');\n",
    "        \n",
    "    if (n == 5) break;\n",
    "    console.log(\"n = \" + n);\n",
    "}"
   ]
  },
  {
   "cell_type": "code",
   "execution_count": null,
   "metadata": {},
   "outputs": [],
   "source": [
    "var n = 0;\n",
    "\n",
    "while (n <= 5) {\n",
    "    n++;\n",
    "\n",
    "    if (n == 3) continue // Makes this a statement so it will execute each time.\n",
    "    console.log('Continued at 3');\n",
    "        \n",
    "    if (n == 5) break;\n",
    "    console.log(\"n = \" + n);\n",
    "}"
   ]
  },
  {
   "cell_type": "code",
   "execution_count": null,
   "metadata": {},
   "outputs": [],
   "source": [
    "var n = 0;\n",
    "\n",
    "while (n <= 5) {\n",
    "    n++;\n",
    "\n",
    "    if (n == 3) continue; // Makes this a statement so it will execute each time.  \n",
    "        \n",
    "    if (n == 5) break;\n",
    "    console.log(\"n = \" + n);\n",
    "}"
   ]
  },
  {
   "cell_type": "markdown",
   "metadata": {},
   "source": [
    "<b>Do While loops</b>\n",
    "\n",
    "The defining feature of `do while` loops are that they execute at least once. It will execute then check the condition."
   ]
  },
  {
   "cell_type": "code",
   "execution_count": 5,
   "metadata": {},
   "outputs": [
    {
     "name": "stdout",
     "output_type": "stream",
     "text": [
      "i = 4\n",
      "i = 5\n"
     ]
    }
   ],
   "source": [
    "var i = 3;\n",
    "\n",
    "do {\n",
    "  i++;\n",
    "  console.log(\"i = \" + i);\n",
    "} while (i < 5);"
   ]
  },
  {
   "cell_type": "code",
   "execution_count": 6,
   "metadata": {},
   "outputs": [
    {
     "name": "stdout",
     "output_type": "stream",
     "text": [
      "i = 6\n"
     ]
    }
   ],
   "source": [
    "var i = 5;\n",
    "\n",
    "do {\n",
    "  i++;\n",
    "  console.log(\"i = \" + i);\n",
    "} while (i < 5);"
   ]
  }
 ],
 "metadata": {
  "kernelspec": {
   "display_name": "Javascript (Node.js)",
   "language": "javascript",
   "name": "javascript"
  },
  "language_info": {
   "file_extension": ".js",
   "mimetype": "application/javascript",
   "name": "javascript",
   "version": "10.13.0"
  }
 },
 "nbformat": 4,
 "nbformat_minor": 2
}
