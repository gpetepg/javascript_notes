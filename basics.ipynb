{
 "cells": [
  {
   "cell_type": "markdown",
   "metadata": {},
   "source": [
    "https://github.com/n-riesco/ijavascript\n",
    "\n",
    "https://developer.mozilla.org/en-US/docs/Learn/Getting_started_with_the_web/JavaScript_basics\n",
    "\n",
    "https://javascript.info/"
   ]
  },
  {
   "cell_type": "markdown",
   "metadata": {},
   "source": [
    "# Typing"
   ]
  },
  {
   "cell_type": "code",
   "execution_count": 52,
   "metadata": {},
   "outputs": [],
   "source": [
    "// int\n",
    "var int = 5;"
   ]
  },
  {
   "cell_type": "code",
   "execution_count": 8,
   "metadata": {},
   "outputs": [],
   "source": [
    "// string\n",
    "var string = '5';"
   ]
  },
  {
   "cell_type": "code",
   "execution_count": 11,
   "metadata": {},
   "outputs": [],
   "source": [
    "// bool\n",
    "var True = true;\n",
    "var False = false;"
   ]
  },
  {
   "cell_type": "code",
   "execution_count": 5,
   "metadata": {},
   "outputs": [
    {
     "data": {
      "text/plain": [
       "2"
      ]
     },
     "execution_count": 5,
     "metadata": {},
     "output_type": "execute_result"
    }
   ],
   "source": [
    "// array\n",
    "var array = [1,2,3,4,5]\n",
    "\n",
    "array[1]"
   ]
  },
  {
   "cell_type": "code",
   "execution_count": 6,
   "metadata": {},
   "outputs": [],
   "source": [
    "// hashmaps\n",
    "var hash = {'a':[1,2,3], 'b':[4,5,6]}"
   ]
  },
  {
   "cell_type": "code",
   "execution_count": 8,
   "metadata": {},
   "outputs": [
    {
     "data": {
      "text/plain": [
       "[ 4, 5, 6 ]"
      ]
     },
     "execution_count": 8,
     "metadata": {},
     "output_type": "execute_result"
    }
   ],
   "source": [
    "hash['b']"
   ]
  },
  {
   "cell_type": "code",
   "execution_count": 7,
   "metadata": {},
   "outputs": [
    {
     "data": {
      "text/plain": [
       "1"
      ]
     },
     "execution_count": 7,
     "metadata": {},
     "output_type": "execute_result"
    }
   ],
   "source": [
    "// Calling from hash and list\n",
    "\n",
    "hash['a'][0]"
   ]
  },
  {
   "cell_type": "code",
   "execution_count": 10,
   "metadata": {},
   "outputs": [],
   "source": [
    "// object\n",
    "// var myVariable = document.querySelector('h1');"
   ]
  },
  {
   "cell_type": "code",
   "execution_count": null,
   "metadata": {},
   "outputs": [],
   "source": [
    "/*\n",
    "Everything in between is a multiline comment.\n",
    "*/"
   ]
  },
  {
   "cell_type": "markdown",
   "metadata": {},
   "source": [
    "<b>Casting types</b>"
   ]
  },
  {
   "cell_type": "code",
   "execution_count": 15,
   "metadata": {},
   "outputs": [
    {
     "data": {
      "text/plain": [
       "'1'"
      ]
     },
     "execution_count": 15,
     "metadata": {},
     "output_type": "execute_result"
    }
   ],
   "source": [
    "var number = 1;\n",
    "\n",
    "String(number)"
   ]
  },
  {
   "cell_type": "code",
   "execution_count": null,
   "metadata": {},
   "outputs": [],
   "source": []
  },
  {
   "cell_type": "markdown",
   "metadata": {},
   "source": [
    "# Operators"
   ]
  },
  {
   "cell_type": "markdown",
   "metadata": {},
   "source": [
    "<b>Equal signs</b>\n",
    "- `=` is assignment\n",
    "- `==` Checks if it is equal\n",
    "- `===` Checks if it is equal and the same type\n",
    "- `!=` Checks if it is false\n",
    "- `!==` Checks if it is false and the same type"
   ]
  },
  {
   "cell_type": "code",
   "execution_count": 28,
   "metadata": {},
   "outputs": [
    {
     "data": {
      "text/plain": [
       "true"
      ]
     },
     "execution_count": 28,
     "metadata": {},
     "output_type": "execute_result"
    }
   ],
   "source": [
    "var int_zero = 0;\n",
    "var string_zero = '0';\n",
    "\n",
    "int_zero == string_zero"
   ]
  },
  {
   "cell_type": "code",
   "execution_count": 27,
   "metadata": {},
   "outputs": [
    {
     "data": {
      "text/plain": [
       "false"
      ]
     },
     "execution_count": 27,
     "metadata": {},
     "output_type": "execute_result"
    }
   ],
   "source": [
    "int_zero === string_zero"
   ]
  },
  {
   "cell_type": "code",
   "execution_count": 33,
   "metadata": {},
   "outputs": [
    {
     "data": {
      "text/plain": [
       "false"
      ]
     },
     "execution_count": 33,
     "metadata": {},
     "output_type": "execute_result"
    }
   ],
   "source": [
    "int_zero != string_zero"
   ]
  },
  {
   "cell_type": "code",
   "execution_count": 34,
   "metadata": {},
   "outputs": [
    {
     "data": {
      "text/plain": [
       "true"
      ]
     },
     "execution_count": 34,
     "metadata": {},
     "output_type": "execute_result"
    }
   ],
   "source": [
    "int_zero !== string_zero"
   ]
  },
  {
   "cell_type": "code",
   "execution_count": 42,
   "metadata": {},
   "outputs": [
    {
     "data": {
      "text/plain": [
       "false"
      ]
     },
     "execution_count": 42,
     "metadata": {},
     "output_type": "execute_result"
    }
   ],
   "source": [
    "// Alternative way to return bool\n",
    "var myVariable = 3;\n",
    "\n",
    "!myVariable === 3;"
   ]
  },
  {
   "cell_type": "code",
   "execution_count": 41,
   "metadata": {},
   "outputs": [
    {
     "data": {
      "text/plain": [
       "true"
      ]
     },
     "execution_count": 41,
     "metadata": {},
     "output_type": "execute_result"
    }
   ],
   "source": [
    "myVariable === 3;"
   ]
  },
  {
   "cell_type": "markdown",
   "metadata": {},
   "source": [
    "<b>Addition</b>"
   ]
  },
  {
   "cell_type": "code",
   "execution_count": 19,
   "metadata": {},
   "outputs": [
    {
     "data": {
      "text/plain": [
       "true"
      ]
     },
     "execution_count": 19,
     "metadata": {},
     "output_type": "execute_result"
    }
   ],
   "source": [
    "// Addition\n",
    "var six = 6;\n",
    "var nine = 9;\n",
    "six + nine == 6 + 9"
   ]
  },
  {
   "cell_type": "code",
   "execution_count": 17,
   "metadata": {},
   "outputs": [
    {
     "data": {
      "text/plain": [
       "-3"
      ]
     },
     "execution_count": 17,
     "metadata": {},
     "output_type": "execute_result"
    }
   ],
   "source": [
    "// subtraction\n",
    "\n",
    "six - nine"
   ]
  },
  {
   "cell_type": "markdown",
   "metadata": {},
   "source": [
    "<b>Multiplication</b>"
   ]
  },
  {
   "cell_type": "code",
   "execution_count": 71,
   "metadata": {},
   "outputs": [
    {
     "data": {
      "text/plain": [
       "54"
      ]
     },
     "execution_count": 71,
     "metadata": {},
     "output_type": "execute_result"
    }
   ],
   "source": [
    "// multiplication\n",
    "6*9"
   ]
  },
  {
   "cell_type": "code",
   "execution_count": null,
   "metadata": {},
   "outputs": [],
   "source": [
    "// Exponent\n",
    "\n",
    "5**2"
   ]
  },
  {
   "cell_type": "markdown",
   "metadata": {},
   "source": [
    "<b>Division</b>"
   ]
  },
  {
   "cell_type": "code",
   "execution_count": 75,
   "metadata": {},
   "outputs": [
    {
     "data": {
      "text/plain": [
       "1.6666666666666667"
      ]
     },
     "execution_count": 75,
     "metadata": {},
     "output_type": "execute_result"
    }
   ],
   "source": [
    "// Division\n",
    "\n",
    "5/3"
   ]
  },
  {
   "cell_type": "code",
   "execution_count": 76,
   "metadata": {},
   "outputs": [
    {
     "data": {
      "text/plain": [
       "1"
      ]
     },
     "execution_count": 76,
     "metadata": {},
     "output_type": "execute_result"
    }
   ],
   "source": [
    "// Floor division\n",
    "\n",
    "Math.floor(5/3)"
   ]
  },
  {
   "cell_type": "code",
   "execution_count": null,
   "metadata": {},
   "outputs": [],
   "source": [
    "// Modulus\n",
    "\n",
    "5%2"
   ]
  },
  {
   "cell_type": "markdown",
   "metadata": {},
   "source": [
    "# Conditionals"
   ]
  },
  {
   "cell_type": "code",
   "execution_count": 45,
   "metadata": {},
   "outputs": [
    {
     "name": "stdout",
     "output_type": "stream",
     "text": [
      "Vaniller\n"
     ]
    }
   ],
   "source": [
    "var flavor = 'vanilla';\n",
    "\n",
    "if (flavor === 'chocolate') {\n",
    "    console.log('I LOVE chocolate')\n",
    "} else if (flavor === 'vanilla') {\n",
    "    console.log('Vaniller')\n",
    "} else {\n",
    "    console.log('AWWWW not chocolate')\n",
    "}"
   ]
  },
  {
   "cell_type": "code",
   "execution_count": 50,
   "metadata": {},
   "outputs": [
    {
     "data": {
      "text/plain": [
       "'a and c are equal'"
      ]
     },
     "execution_count": 50,
     "metadata": {},
     "output_type": "execute_result"
    }
   ],
   "source": [
    "// Nesting conditionals\n",
    "\n",
    "var a = 5;\n",
    "var b = 3;\n",
    "var c = 5;\n",
    "\n",
    "if (a == b) {\n",
    "  if (a == c) {\n",
    "    answer = \"all are equal\";\n",
    "  } else {\n",
    "    answer = \"a and b are equal\";\n",
    "  }\n",
    "} else {\n",
    "  if (a == c) {\n",
    "    answer = \"a and c are equal\";\n",
    "  } else {\n",
    "    if (b == c) {\n",
    "      answer = \"b and c are equal\";\n",
    "    } else {\n",
    "      answer = \"all are different\";\n",
    "    }\n",
    "  }\n",
    "}"
   ]
  },
  {
   "cell_type": "code",
   "execution_count": 51,
   "metadata": {},
   "outputs": [
    {
     "data": {
      "text/plain": [
       "'a and c are equal'"
      ]
     },
     "execution_count": 51,
     "metadata": {},
     "output_type": "execute_result"
    }
   ],
   "source": [
    "// Cleaner\n",
    "\n",
    "var a = 5;\n",
    "var b = 3;\n",
    "var c = 5;\n",
    "\n",
    "if (a == b) {\n",
    "  if (a == c) {\n",
    "    answer = \"all are equal\";\n",
    "  } else {\n",
    "    answer = \"a and b are equal\";\n",
    "  }\n",
    "} else if (a == c) {\n",
    "  answer = \"a and c are equal\";\n",
    "} else if (b == c) {\n",
    "  answer = \"b and c are equal\";\n",
    "} else {\n",
    "  answer = \"all are different\";\n",
    "}"
   ]
  },
  {
   "cell_type": "markdown",
   "metadata": {},
   "source": [
    "# Functions"
   ]
  },
  {
   "cell_type": "code",
   "execution_count": 63,
   "metadata": {},
   "outputs": [],
   "source": [
    "// Return\n",
    "\n",
    "function addition(num1, num2) {\n",
    "    var summed = num1 + num2;\n",
    "    return summed;\n",
    "}"
   ]
  },
  {
   "cell_type": "code",
   "execution_count": 64,
   "metadata": {},
   "outputs": [
    {
     "data": {
      "text/plain": [
       "10"
      ]
     },
     "execution_count": 64,
     "metadata": {},
     "output_type": "execute_result"
    }
   ],
   "source": [
    "addition(5,5)"
   ]
  },
  {
   "cell_type": "code",
   "execution_count": 61,
   "metadata": {},
   "outputs": [],
   "source": [
    "// Like Python print\n",
    "\n",
    "function addition(num1, num2) {\n",
    "    var summed = num1 + num2;\n",
    "    console.log(summed);\n",
    "}"
   ]
  },
  {
   "cell_type": "code",
   "execution_count": 62,
   "metadata": {},
   "outputs": [
    {
     "name": "stdout",
     "output_type": "stream",
     "text": [
      "10\n"
     ]
    }
   ],
   "source": [
    "addition(5,5)"
   ]
  },
  {
   "cell_type": "code",
   "execution_count": 67,
   "metadata": {},
   "outputs": [
    {
     "data": {
      "text/plain": [
       "[Function: addition]"
      ]
     },
     "execution_count": 67,
     "metadata": {},
     "output_type": "execute_result"
    }
   ],
   "source": [
    "// Making function an object\n",
    "a = addition"
   ]
  },
  {
   "cell_type": "code",
   "execution_count": 68,
   "metadata": {
    "scrolled": true
   },
   "outputs": [
    {
     "data": {
      "text/plain": [
       "11"
      ]
     },
     "execution_count": 68,
     "metadata": {},
     "output_type": "execute_result"
    }
   ],
   "source": [
    "a(5,6)"
   ]
  },
  {
   "cell_type": "markdown",
   "metadata": {},
   "source": [
    "# Classes"
   ]
  },
  {
   "cell_type": "code",
   "execution_count": 1,
   "metadata": {},
   "outputs": [],
   "source": [
    "class Person {\n",
    "    constructor(name, job) {\n",
    "        this.name = name\n",
    "        this.job = job\n",
    "    }\n",
    "    \n",
    "    log_info(x) {\n",
    "        console.log(this.name, x)\n",
    "    }\n",
    "    \n",
    "    take_number(x) {\n",
    "        if (x < 3) {\n",
    "            console.log('less than 3')\n",
    "        } else if (x > 1) {\n",
    "            console.log('greater than 1')\n",
    "        } else {\n",
    "            console.log('hello')\n",
    "        }\n",
    "    }\n",
    "    \n",
    "}"
   ]
  },
  {
   "cell_type": "code",
   "execution_count": 2,
   "metadata": {},
   "outputs": [
    {
     "data": {
      "text/plain": [
       "Person { name: 'tyler', job: 'swe' }"
      ]
     },
     "execution_count": 2,
     "metadata": {},
     "output_type": "execute_result"
    }
   ],
   "source": [
    "ty = new Person('tyler', 'swe')"
   ]
  },
  {
   "cell_type": "code",
   "execution_count": 3,
   "metadata": {},
   "outputs": [
    {
     "data": {
      "text/plain": [
       "'tyler'"
      ]
     },
     "execution_count": 3,
     "metadata": {},
     "output_type": "execute_result"
    }
   ],
   "source": [
    "ty.name"
   ]
  },
  {
   "cell_type": "code",
   "execution_count": 4,
   "metadata": {},
   "outputs": [
    {
     "name": "stdout",
     "output_type": "stream",
     "text": [
      "tyler x\n"
     ]
    }
   ],
   "source": [
    "ty.log_info('x')"
   ]
  },
  {
   "cell_type": "code",
   "execution_count": 9,
   "metadata": {},
   "outputs": [
    {
     "name": "stdout",
     "output_type": "stream",
     "text": [
      "hello\n"
     ]
    }
   ],
   "source": [
    "ty.take_number('a')"
   ]
  },
  {
   "cell_type": "markdown",
   "metadata": {},
   "source": [
    "# Loops"
   ]
  },
  {
   "cell_type": "markdown",
   "metadata": {},
   "source": [
    "<b>For loops</b>"
   ]
  },
  {
   "cell_type": "code",
   "execution_count": 12,
   "metadata": {},
   "outputs": [
    {
     "name": "stdout",
     "output_type": "stream",
     "text": [
      "Walking east one step\n",
      "Walking east one step\n",
      "Walking east one step\n",
      "Walking east one step\n",
      "Walking east one step\n"
     ]
    }
   ],
   "source": [
    "var step;\n",
    "for (step = 0; step < 5; step++) {\n",
    "  // Runs 5 times, with values of step 0 through 4.\n",
    "  console.log('Walking east one step');\n",
    "}"
   ]
  },
  {
   "cell_type": "code",
   "execution_count": 10,
   "metadata": {},
   "outputs": [
    {
     "name": "stdout",
     "output_type": "stream",
     "text": [
      "Bmw\n",
      "Mazda\n",
      "Audi\n"
     ]
    }
   ],
   "source": [
    "var cars = ['Bmw', 'Mazda', 'Audi'];\n",
    "\n",
    "for (i = 0; i < cars.length; i++) {\n",
    "    console.log(cars[i])\n",
    "}"
   ]
  },
  {
   "cell_type": "markdown",
   "metadata": {},
   "source": [
    "<b>While loops</b>\n",
    "\n",
    "In a `while loop`, a condition is tested at the beginning of the loop and if the condition is `true` only then will statements inside the loop be executed."
   ]
  },
  {
   "cell_type": "code",
   "execution_count": 42,
   "metadata": {},
   "outputs": [
    {
     "name": "stdout",
     "output_type": "stream",
     "text": [
      "n = 1\n",
      "n = 2\n",
      "conditon\n",
      "n = 3\n",
      "n = 4\n"
     ]
    }
   ],
   "source": [
    "var n = 0;\n",
    "\n",
    "while (n <= 5) {\n",
    "    n++;\n",
    "\n",
    "    if (n == 3)\n",
    "    console.log('conditon')  \n",
    "        \n",
    "    if (n == 5) break;\n",
    "    console.log(\"n = \" + n);\n",
    "}"
   ]
  },
  {
   "cell_type": "code",
   "execution_count": 41,
   "metadata": {},
   "outputs": [
    {
     "name": "stdout",
     "output_type": "stream",
     "text": [
      "Continued at 3\n",
      "n = 1\n",
      "Continued at 3\n",
      "n = 2\n",
      "Continued at 3\n",
      "n = 4\n",
      "Continued at 3\n"
     ]
    }
   ],
   "source": [
    "var n = 0;\n",
    "\n",
    "while (n <= 5) {\n",
    "    n++;\n",
    "\n",
    "    if (n == 3) continue // Makes this a statement so it will execute each time.\n",
    "    console.log('Continued at 3');\n",
    "        \n",
    "    if (n == 5) break;\n",
    "    console.log(\"n = \" + n);\n",
    "}"
   ]
  },
  {
   "cell_type": "code",
   "execution_count": 40,
   "metadata": {},
   "outputs": [
    {
     "name": "stdout",
     "output_type": "stream",
     "text": [
      "n = 1\n",
      "n = 2\n",
      "n = 4\n"
     ]
    }
   ],
   "source": [
    "var n = 0;\n",
    "\n",
    "while (n <= 5) {\n",
    "    n++;\n",
    "\n",
    "    if (n == 3) continue; // Makes this a statement so it will execute each time.  \n",
    "        \n",
    "    if (n == 5) break;\n",
    "    console.log(\"n = \" + n);\n",
    "}"
   ]
  },
  {
   "cell_type": "markdown",
   "metadata": {},
   "source": [
    "<b>Do While loops</b>\n",
    "\n",
    "The defining feature of `do while` loops are that they execute at least once. It will execute then check the condition."
   ]
  },
  {
   "cell_type": "code",
   "execution_count": 12,
   "metadata": {},
   "outputs": [
    {
     "name": "stdout",
     "output_type": "stream",
     "text": [
      "i = 4\n",
      "i = 5\n"
     ]
    }
   ],
   "source": [
    "var i = 3;\n",
    "\n",
    "do {\n",
    "  i++;\n",
    "  console.log(\"i = \" + i);\n",
    "} while (i < 5);"
   ]
  },
  {
   "cell_type": "code",
   "execution_count": 11,
   "metadata": {},
   "outputs": [
    {
     "name": "stdout",
     "output_type": "stream",
     "text": [
      "i = 6\n"
     ]
    }
   ],
   "source": [
    "var i = 5;\n",
    "\n",
    "do {\n",
    "  i++;\n",
    "  console.log(\"i = \" + i);\n",
    "} while (i < 5);"
   ]
  }
 ],
 "metadata": {
  "kernelspec": {
   "display_name": "Javascript (Node.js)",
   "language": "javascript",
   "name": "javascript"
  },
  "language_info": {
   "file_extension": ".js",
   "mimetype": "application/javascript",
   "name": "javascript",
   "version": "10.13.0"
  }
 },
 "nbformat": 4,
 "nbformat_minor": 2
}
